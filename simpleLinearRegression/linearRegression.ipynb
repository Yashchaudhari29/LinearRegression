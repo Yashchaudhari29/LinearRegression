{
 "cells": [
  {
   "cell_type": "code",
   "execution_count": 79,
   "id": "b49a5249-97e9-4a2f-b710-e8aca1d7e97a",
   "metadata": {},
   "outputs": [],
   "source": [
    "class myLR:\n",
    "    def __init__(self):\n",
    "        self.m = None\n",
    "        self.b = None\n",
    "\n",
    "    def fit(self,x_train,y_train):\n",
    "        num=0\n",
    "        den=0\n",
    "\n",
    "        for i in range(x_train.shape[0]):\n",
    "            num = num + ((x_train[i] - x_train.mean())*(y_train[i] - y_train.mean()))\n",
    "            den = den + ((x_train[i] - x_train.mean())*(x_train[i] - x_train.mean()))\n",
    "\n",
    "        self.m = num/den\n",
    "        self.b = y_train.mean() - (self.m * x_train.mean())\n",
    "        print(f\"m : {self.m} , b : {self.b} \")\n",
    "        \n",
    "    def pred(self,x_test):\n",
    "        \n",
    "        return (self.m * x_test) + self.b\n"
   ]
  },
  {
   "cell_type": "code",
   "execution_count": 80,
   "id": "a5043295-d655-4dc8-b8c4-b181372f4ed2",
   "metadata": {},
   "outputs": [
    {
     "data": {
      "text/html": [
       "<div>\n",
       "<style scoped>\n",
       "    .dataframe tbody tr th:only-of-type {\n",
       "        vertical-align: middle;\n",
       "    }\n",
       "\n",
       "    .dataframe tbody tr th {\n",
       "        vertical-align: top;\n",
       "    }\n",
       "\n",
       "    .dataframe thead th {\n",
       "        text-align: right;\n",
       "    }\n",
       "</style>\n",
       "<table border=\"1\" class=\"dataframe\">\n",
       "  <thead>\n",
       "    <tr style=\"text-align: right;\">\n",
       "      <th></th>\n",
       "      <th>cgpa</th>\n",
       "      <th>package</th>\n",
       "    </tr>\n",
       "  </thead>\n",
       "  <tbody>\n",
       "    <tr>\n",
       "      <th>0</th>\n",
       "      <td>6.89</td>\n",
       "      <td>3.26</td>\n",
       "    </tr>\n",
       "    <tr>\n",
       "      <th>1</th>\n",
       "      <td>5.12</td>\n",
       "      <td>1.98</td>\n",
       "    </tr>\n",
       "    <tr>\n",
       "      <th>2</th>\n",
       "      <td>7.82</td>\n",
       "      <td>3.25</td>\n",
       "    </tr>\n",
       "    <tr>\n",
       "      <th>3</th>\n",
       "      <td>7.42</td>\n",
       "      <td>3.67</td>\n",
       "    </tr>\n",
       "    <tr>\n",
       "      <th>4</th>\n",
       "      <td>6.94</td>\n",
       "      <td>3.57</td>\n",
       "    </tr>\n",
       "  </tbody>\n",
       "</table>\n",
       "</div>"
      ],
      "text/plain": [
       "   cgpa  package\n",
       "0  6.89     3.26\n",
       "1  5.12     1.98\n",
       "2  7.82     3.25\n",
       "3  7.42     3.67\n",
       "4  6.94     3.57"
      ]
     },
     "execution_count": 80,
     "metadata": {},
     "output_type": "execute_result"
    }
   ],
   "source": [
    "import numpy as np\n",
    "import pandas as pd\n",
    "df= pd.read_csv(\"placement.csv\")\n",
    "df.head()"
   ]
  },
  {
   "cell_type": "code",
   "execution_count": 81,
   "id": "65659135-40a9-46ec-a7af-86192bd59216",
   "metadata": {},
   "outputs": [],
   "source": [
    "x = df.iloc[:,0].values\n",
    "y = df.iloc[:,1].values"
   ]
  },
  {
   "cell_type": "code",
   "execution_count": 82,
   "id": "32dade9f-46b2-477b-81ee-cf425b97f103",
   "metadata": {},
   "outputs": [],
   "source": [
    "from sklearn.model_selection import train_test_split\n",
    "x_train,x_test,y_train,y_test=train_test_split(x,y,test_size=0.2,random_state=0)"
   ]
  },
  {
   "cell_type": "code",
   "execution_count": 83,
   "id": "5a422216-5278-4cd5-9473-d63967e8a9db",
   "metadata": {},
   "outputs": [],
   "source": [
    "lr=myLR()"
   ]
  },
  {
   "cell_type": "code",
   "execution_count": 84,
   "id": "a5a0d137-d257-465c-a487-24b4a467e1ea",
   "metadata": {},
   "outputs": [
    {
     "name": "stdout",
     "output_type": "stream",
     "text": [
      "m : 0.5763304184634158 , b : -1.0296070415163068 \n"
     ]
    }
   ],
   "source": [
    "lr.fit(x_train,y_train)"
   ]
  },
  {
   "cell_type": "code",
   "execution_count": 88,
   "id": "3f9d3750-8613-4abd-adf2-4c7ceb4aef54",
   "metadata": {},
   "outputs": [
    {
     "name": "stdout",
     "output_type": "stream",
     "text": [
      "6.94\n"
     ]
    },
    {
     "data": {
      "text/plain": [
       "2.970126062619799"
      ]
     },
     "execution_count": 88,
     "metadata": {},
     "output_type": "execute_result"
    }
   ],
   "source": [
    "print(x_test[0])\n",
    "\n",
    "lr.pred(x_test[0])"
   ]
  },
  {
   "cell_type": "code",
   "execution_count": null,
   "id": "d9182005-61bf-42d9-a623-5087f4726af1",
   "metadata": {},
   "outputs": [],
   "source": []
  }
 ],
 "metadata": {
  "kernelspec": {
   "display_name": "Python 3 (ipykernel)",
   "language": "python",
   "name": "python3"
  },
  "language_info": {
   "codemirror_mode": {
    "name": "ipython",
    "version": 3
   },
   "file_extension": ".py",
   "mimetype": "text/x-python",
   "name": "python",
   "nbconvert_exporter": "python",
   "pygments_lexer": "ipython3",
   "version": "3.11.5"
  }
 },
 "nbformat": 4,
 "nbformat_minor": 5
}
